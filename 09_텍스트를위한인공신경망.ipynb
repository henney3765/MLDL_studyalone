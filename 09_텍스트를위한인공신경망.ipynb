{
  "nbformat": 4,
  "nbformat_minor": 0,
  "metadata": {
    "colab": {
      "name": "09_텍스트를위한인공신경망.ipynb",
      "provenance": [],
      "collapsed_sections": [],
      "authorship_tag": "ABX9TyOylXeyXPlTFphX7K+fvLAg",
      "include_colab_link": true
    },
    "kernelspec": {
      "name": "python3",
      "display_name": "Python 3"
    },
    "language_info": {
      "name": "python"
    },
    "accelerator": "GPU"
  },
  "cells": [
    {
      "cell_type": "markdown",
      "metadata": {
        "id": "view-in-github",
        "colab_type": "text"
      },
      "source": [
        "<a href=\"https://colab.research.google.com/github/henney3765/MLDL_studyalone/blob/main/09_%ED%85%8D%EC%8A%A4%ED%8A%B8%EB%A5%BC%EC%9C%84%ED%95%9C%EC%9D%B8%EA%B3%B5%EC%8B%A0%EA%B2%BD%EB%A7%9D.ipynb\" target=\"_parent\"><img src=\"https://colab.research.google.com/assets/colab-badge.svg\" alt=\"Open In Colab\"/></a>"
      ]
    },
    {
      "cell_type": "markdown",
      "source": [
        "# 09-1 순차 데이터와 순환 신경망 -> 코딩 x 책 참조"
      ],
      "metadata": {
        "id": "Og5lP7x3oCx7"
      }
    },
    {
      "cell_type": "markdown",
      "source": [
        "# 09-1 순환 신경망으로 IMDB 리뷰 분류하기"
      ],
      "metadata": {
        "id": "FfqMj4X0p9Y_"
      }
    },
    {
      "cell_type": "code",
      "source": [
        "from tensorflow.keras.datasets import imdb\n",
        "(train_input, train_target), (test_input, test_target) = imdb.load_data(\n",
        "    num_words=500\n",
        ")"
      ],
      "metadata": {
        "id": "wVo1x2yRTnkX"
      },
      "execution_count": 4,
      "outputs": []
    },
    {
      "cell_type": "code",
      "source": [
        "print(train_input.shape, test_input.shape)\n",
        "\n",
        "# 25,000개의 샘플이며, 파이썬 리스트로 담긴 넘파이"
      ],
      "metadata": {
        "colab": {
          "base_uri": "https://localhost:8080/"
        },
        "id": "t5x3tO1cWX8o",
        "outputId": "db67eb39-0f44-44bb-a8f7-5a7db3e28941"
      },
      "execution_count": 5,
      "outputs": [
        {
          "output_type": "stream",
          "name": "stdout",
          "text": [
            "(25000,) (25000,)\n"
          ]
        }
      ]
    },
    {
      "cell_type": "code",
      "source": [
        "print(len(train_input[0]))"
      ],
      "metadata": {
        "colab": {
          "base_uri": "https://localhost:8080/"
        },
        "id": "_B_hWiFjW0Qm",
        "outputId": "baed7e0b-b21e-4ec7-d8f2-db470100c8a2"
      },
      "execution_count": 6,
      "outputs": [
        {
          "output_type": "stream",
          "name": "stdout",
          "text": [
            "218\n"
          ]
        }
      ]
    },
    {
      "cell_type": "code",
      "source": [
        "print(len(train_input[1]))\n",
        "\n",
        "# 리뷰마다 길이가 다름"
      ],
      "metadata": {
        "colab": {
          "base_uri": "https://localhost:8080/"
        },
        "id": "r5AcnYH9XFCT",
        "outputId": "29488915-f12d-4925-ced7-04a36218e3c1"
      },
      "execution_count": 7,
      "outputs": [
        {
          "output_type": "stream",
          "name": "stdout",
          "text": [
            "189\n"
          ]
        }
      ]
    },
    {
      "cell_type": "code",
      "source": [
        "print(train_input[0])"
      ],
      "metadata": {
        "colab": {
          "base_uri": "https://localhost:8080/"
        },
        "id": "f5GdTdZkXHsI",
        "outputId": "942c77ef-eef9-4658-b328-0a04cdadb5c9"
      },
      "execution_count": 8,
      "outputs": [
        {
          "output_type": "stream",
          "name": "stdout",
          "text": [
            "[1, 14, 22, 16, 43, 2, 2, 2, 2, 65, 458, 2, 66, 2, 4, 173, 36, 256, 5, 25, 100, 43, 2, 112, 50, 2, 2, 9, 35, 480, 284, 5, 150, 4, 172, 112, 167, 2, 336, 385, 39, 4, 172, 2, 2, 17, 2, 38, 13, 447, 4, 192, 50, 16, 6, 147, 2, 19, 14, 22, 4, 2, 2, 469, 4, 22, 71, 87, 12, 16, 43, 2, 38, 76, 15, 13, 2, 4, 22, 17, 2, 17, 12, 16, 2, 18, 2, 5, 62, 386, 12, 8, 316, 8, 106, 5, 4, 2, 2, 16, 480, 66, 2, 33, 4, 130, 12, 16, 38, 2, 5, 25, 124, 51, 36, 135, 48, 25, 2, 33, 6, 22, 12, 215, 28, 77, 52, 5, 14, 407, 16, 82, 2, 8, 4, 107, 117, 2, 15, 256, 4, 2, 7, 2, 5, 2, 36, 71, 43, 2, 476, 26, 400, 317, 46, 7, 4, 2, 2, 13, 104, 88, 4, 381, 15, 297, 98, 32, 2, 56, 26, 141, 6, 194, 2, 18, 4, 226, 22, 21, 134, 476, 26, 480, 5, 144, 30, 2, 18, 51, 36, 28, 224, 92, 25, 104, 4, 226, 65, 16, 38, 2, 88, 12, 16, 283, 5, 16, 2, 113, 103, 32, 15, 16, 2, 19, 178, 32]\n"
          ]
        }
      ]
    },
    {
      "cell_type": "code",
      "source": [
        "print(train_target[:20])"
      ],
      "metadata": {
        "colab": {
          "base_uri": "https://localhost:8080/"
        },
        "id": "GGQ-GDKCXRVL",
        "outputId": "d6185646-dff7-460c-d0ee-cd2da6ec14b0"
      },
      "execution_count": 11,
      "outputs": [
        {
          "output_type": "stream",
          "name": "stdout",
          "text": [
            "[1 0 0 1 0 0 1 0 1 0 1 0 0 0 0 0 1 1 0 1]\n"
          ]
        }
      ]
    },
    {
      "cell_type": "code",
      "source": [
        "from sklearn.model_selection import train_test_split\n",
        "train_input, val_input, train_target, val_target = train_test_split(\n",
        "    train_input, train_target, test_size=0.2, random_state=42\n",
        ")"
      ],
      "metadata": {
        "id": "53vRn17zZiGs"
      },
      "execution_count": 12,
      "outputs": []
    },
    {
      "cell_type": "code",
      "source": [
        "import numpy as np\n",
        "lengths = np.array([len(x) for x in train_input])"
      ],
      "metadata": {
        "id": "teJdK6CaZ2pi"
      },
      "execution_count": 16,
      "outputs": []
    },
    {
      "cell_type": "code",
      "source": [
        "print(np.mean(lengths), np.median(lengths))"
      ],
      "metadata": {
        "colab": {
          "base_uri": "https://localhost:8080/"
        },
        "id": "VPTw3yaXaHfC",
        "outputId": "f71e906f-cef7-4589-c885-6efe85a55789"
      },
      "execution_count": 17,
      "outputs": [
        {
          "output_type": "stream",
          "name": "stdout",
          "text": [
            "239.00925 178.0\n"
          ]
        }
      ]
    },
    {
      "cell_type": "code",
      "source": [
        "import matplotlib.pyplot as plt\n",
        "plt.hist(lengths)\n",
        "plt.xlabel('length')\n",
        "plt.ylabel('frequency')\n",
        "plt.show()"
      ],
      "metadata": {
        "colab": {
          "base_uri": "https://localhost:8080/",
          "height": 279
        },
        "id": "IQmpFUmEaMPq",
        "outputId": "181285d7-7a69-43ff-d8fd-7f7f198040e0"
      },
      "execution_count": 18,
      "outputs": [
        {
          "output_type": "display_data",
          "data": {
            "image/png": "[encoded data removed]",
            "text/plain": [
              "<Figure size 432x288 with 1 Axes>"
            ]
          },
          "metadata": {
            "needs_background": "light"
          }
        }
      ]
    },
    {
      "cell_type": "code",
      "source": [
        "from tensorflow.keras.preprocessing.sequence import pad_sequences\n",
        "train_seq = pad_sequences(train_input, maxlen=100)"
      ],
      "metadata": {
        "id": "eelEU46ParW_"
      },
      "execution_count": 19,
      "outputs": []
    },
    {
      "cell_type": "code",
      "source": [
        "print(train_seq.shape)"
      ],
      "metadata": {
        "colab": {
          "base_uri": "https://localhost:8080/"
        },
        "id": "9kzQP-MYbfow",
        "outputId": "bbfc105e-7075-408d-f003-96d91c65b308"
      },
      "execution_count": 20,
      "outputs": [
        {
          "output_type": "stream",
          "name": "stdout",
          "text": [
            "(20000, 100)\n"
          ]
        }
      ]
    },
    {
      "cell_type": "code",
      "source": [
        "print(train_seq[0])"
      ],
      "metadata": {
        "colab": {
          "base_uri": "https://localhost:8080/"
        },
        "id": "1jkva8ysbiE4",
        "outputId": "93c64338-5fa6-4395-a791-2c84b87cb98b"
      },
      "execution_count": 21,
      "outputs": [
        {
          "output_type": "stream",
          "name": "stdout",
          "text": [
            "[ 10   4  20   9   2 364 352   5  45   6   2   2  33 269   8   2 142   2\n",
            "   5   2  17  73  17 204   5   2  19  55   2   2  92  66 104  14  20  93\n",
            "  76   2 151  33   4  58  12 188   2 151  12 215  69 224 142  73 237   6\n",
            "   2   7   2   2 188   2 103  14  31  10  10 451   7   2   5   2  80  91\n",
            "   2  30   2  34  14  20 151  50  26 131  49   2  84  46  50  37  80  79\n",
            "   6   2  46   7  14  20  10  10 470 158]\n"
          ]
        }
      ]
    },
    {
      "cell_type": "code",
      "source": [
        "train_input[0][-10:]\n",
        "# 앞부분이 잘림\n",
        "# pad_sequences() 함수는 기본적으로 maxlen보다 긴 시퀀스의 앞부분을 자름 -> 뒷부분의 정보가 유용할 것이라 기대하기 때문\n",
        "#시퀀스의 뒷부분을 잘라내고 싶다면 pad_sequences() 함수의  truncating 매개변수의 값을 기본값 'pre'에서 'post'로 변경"
      ],
      "metadata": {
        "colab": {
          "base_uri": "https://localhost:8080/"
        },
        "id": "z_D7wEuBbubl",
        "outputId": "9710efed-a45e-4f39-f941-0a1ec12105a9"
      },
      "execution_count": 23,
      "outputs": [
        {
          "output_type": "execute_result",
          "data": {
            "text/plain": [
              "[6, 2, 46, 7, 14, 20, 10, 10, 470, 158]"
            ]
          },
          "metadata": {},
          "execution_count": 23
        }
      ]
    },
    {
      "cell_type": "code",
      "source": [
        "print(train_seq[5])"
      ],
      "metadata": {
        "colab": {
          "base_uri": "https://localhost:8080/"
        },
        "id": "OMx2t4bYbyFL",
        "outputId": "95798d7b-b747-4856-85ff-5f78c94e23cf"
      },
      "execution_count": 24,
      "outputs": [
        {
          "output_type": "stream",
          "name": "stdout",
          "text": [
            "[  0   0   0   0   1   2 195  19  49   2   2 190   4   2 352   2 183  10\n",
            "  10  13  82  79   4   2  36  71 269   8   2  25  19  49   7   4   2   2\n",
            "   2   2   2  10  10  48  25  40   2  11   2   2  40   2   2   5   4   2\n",
            "   2  95  14 238  56 129   2  10  10  21   2  94 364 352   2   2  11 190\n",
            "  24 484   2   7  94 205 405  10  10  87   2  34  49   2   7   2   2   2\n",
            "   2   2 290   2  46  48  64  18   4   2]\n"
          ]
        }
      ]
    },
    {
      "cell_type": "code",
      "source": [
        "print(train_seq[5])\n",
        "\n",
        "# 같은 이유로 패딩 토큰은 시퀀스의 뒷부분이 아닌 앞부분에 추가됨\n",
        "# pad_sequences() 함수의 padding 매개변수의 기본값인 'pre'를 'post'로 바꾸면 샘플의 뒷부분에 패딩을 추가할 수 있음"
      ],
      "metadata": {
        "colab": {
          "base_uri": "https://localhost:8080/"
        },
        "id": "jTwLamRycJA9",
        "outputId": "037ea9fc-8626-4f97-8a24-6c3b7de43f4b"
      },
      "execution_count": 26,
      "outputs": [
        {
          "output_type": "stream",
          "name": "stdout",
          "text": [
            "[  0   0   0   0   1   2 195  19  49   2   2 190   4   2 352   2 183  10\n",
            "  10  13  82  79   4   2  36  71 269   8   2  25  19  49   7   4   2   2\n",
            "   2   2   2  10  10  48  25  40   2  11   2   2  40   2   2   5   4   2\n",
            "   2  95  14 238  56 129   2  10  10  21   2  94 364 352   2   2  11 190\n",
            "  24 484   2   7  94 205 405  10  10  87   2  34  49   2   7   2   2   2\n",
            "   2   2 290   2  46  48  64  18   4   2]\n"
          ]
        }
      ]
    },
    {
      "cell_type": "code",
      "source": [
        "val_seq = pad_sequences(val_input, maxlen=100)"
      ],
      "metadata": {
        "id": "1jpls4jQcUdA"
      },
      "execution_count": 27,
      "outputs": []
    },
    {
      "cell_type": "markdown",
      "source": [
        "## 순환 신경망 만들기"
      ],
      "metadata": {
        "id": "tgFGXcjQcibn"
      }
    },
    {
      "cell_type": "code",
      "source": [
        "from tensorflow import keras\n",
        "model = keras.Sequential()\n",
        "model.add(keras.layers.SimpleRNN(8, input_shape=(100, 500)))\n",
        "model.add(keras.layers.Dense(1, activation='sigmoid'))"
      ],
      "metadata": {
        "id": "V5TkFuiGckku"
      },
      "execution_count": 28,
      "outputs": []
    },
    {
      "cell_type": "code",
      "source": [
        "# one-hot encoding\n",
        "train_oh = keras.utils.to_categorical(train_seq)"
      ],
      "metadata": {
        "id": "OfwJfZfYj6E3"
      },
      "execution_count": 29,
      "outputs": []
    },
    {
      "cell_type": "code",
      "source": [
        "print(train_oh.shape)"
      ],
      "metadata": {
        "colab": {
          "base_uri": "https://localhost:8080/"
        },
        "id": "4a_4-nhZlNW0",
        "outputId": "bc8efb30-9a39-433e-fc43-cc19b35fb4c5"
      },
      "execution_count": 30,
      "outputs": [
        {
          "output_type": "stream",
          "name": "stdout",
          "text": [
            "(20000, 100, 500)\n"
          ]
        }
      ]
    },
    {
      "cell_type": "code",
      "source": [
        "print(train_oh[0][0][:12])"
      ],
      "metadata": {
        "colab": {
          "base_uri": "https://localhost:8080/"
        },
        "id": "DIXXGPkllPQI",
        "outputId": "dc3431cb-df42-4abd-bf14-48a7bd21fb79"
      },
      "execution_count": 31,
      "outputs": [
        {
          "output_type": "stream",
          "name": "stdout",
          "text": [
            "[0. 0. 0. 0. 0. 0. 0. 0. 0. 0. 1. 0.]\n"
          ]
        }
      ]
    },
    {
      "cell_type": "code",
      "source": [
        "print(np.sum(train_oh[0][0]))"
      ],
      "metadata": {
        "colab": {
          "base_uri": "https://localhost:8080/"
        },
        "id": "4R3LITU4ogFF",
        "outputId": "d70b46eb-c9b2-49ae-be97-b20264610078"
      },
      "execution_count": 34,
      "outputs": [
        {
          "output_type": "stream",
          "name": "stdout",
          "text": [
            "1.0\n"
          ]
        }
      ]
    },
    {
      "cell_type": "code",
      "source": [
        "val_oh = keras.utils.to_categorical(val_seq)"
      ],
      "metadata": {
        "id": "7CFUxB8tphoR"
      },
      "execution_count": 37,
      "outputs": []
    },
    {
      "cell_type": "code",
      "source": [
        "model.summary()"
      ],
      "metadata": {
        "colab": {
          "base_uri": "https://localhost:8080/"
        },
        "id": "SrRn2w6cojxB",
        "outputId": "6b043bd1-dc18-492c-aec8-18930a0be8fb"
      },
      "execution_count": 38,
      "outputs": [
        {
          "output_type": "stream",
          "name": "stdout",
          "text": [
            "Model: \"sequential\"\n",
            "_________________________________________________________________\n",
            " Layer (type)                Output Shape              Param #   \n",
            "=================================================================\n",
            " simple_rnn (SimpleRNN)      (None, 8)                 4072      \n",
            "                                                                 \n",
            " dense (Dense)               (None, 1)                 9         \n",
            "                                                                 \n",
            "=================================================================\n",
            "Total params: 4,081\n",
            "Trainable params: 4,081\n",
            "Non-trainable params: 0\n",
            "_________________________________________________________________\n"
          ]
        }
      ]
    },
    {
      "cell_type": "markdown",
      "source": [
        "## 순환 신경망 훈련하기"
      ],
      "metadata": {
        "id": "V4x_Q4H8ow4U"
      }
    },
    {
      "cell_type": "code",
      "source": [
        "rmsprop = keras.optimizers.RMSprop(learning_rate=1e-4)\n",
        "model.compile(optimizer=rmsprop, loss='binary_crossentropy',\n",
        "              metrics=['accuracy'])\n",
        "checkpoint_cb = keras.callbacks.ModelCheckpoint('best-simplernn-model.h5')\n",
        "early_stopping_cb = keras.callbacks.EarlyStopping(patience=3,\n",
        "                                                  restore_best_weights=True)\n",
        "history = model.fit(train_oh, train_target, epochs=100, batch_size=64,\n",
        "                    validation_data=(val_oh, val_target),\n",
        "                    callbacks=[checkpoint_cb, early_stopping_cb])"
      ],
      "metadata": {
        "colab": {
          "base_uri": "https://localhost:8080/"
        },
        "id": "JaQwDkxOo6aj",
        "outputId": "01e098b0-1916-4990-b37b-1474495ec7a0"
      },
      "execution_count": 50,
      "outputs": [
        {
          "output_type": "stream",
          "name": "stdout",
          "text": [
            "Epoch 1/100\n",
            "313/313 [==============================] - 22s 66ms/step - loss: 0.6073 - accuracy: 0.7049 - val_loss: 0.6061 - val_accuracy: 0.7058\n",
            "Epoch 2/100\n",
            "313/313 [==============================] - 12s 38ms/step - loss: 0.5841 - accuracy: 0.7307 - val_loss: 0.5890 - val_accuracy: 0.7132\n",
            "Epoch 3/100\n",
            "313/313 [==============================] - 12s 38ms/step - loss: 0.5666 - accuracy: 0.7423 - val_loss: 0.5733 - val_accuracy: 0.7268\n",
            "Epoch 4/100\n",
            "313/313 [==============================] - 12s 37ms/step - loss: 0.5512 - accuracy: 0.7540 - val_loss: 0.5595 - val_accuracy: 0.7370\n",
            "Epoch 5/100\n",
            "313/313 [==============================] - 12s 38ms/step - loss: 0.5374 - accuracy: 0.7624 - val_loss: 0.5452 - val_accuracy: 0.7474\n",
            "Epoch 6/100\n",
            "313/313 [==============================] - 12s 37ms/step - loss: 0.5243 - accuracy: 0.7702 - val_loss: 0.5348 - val_accuracy: 0.7496\n",
            "Epoch 7/100\n",
            "313/313 [==============================] - 12s 37ms/step - loss: 0.5132 - accuracy: 0.7760 - val_loss: 0.5247 - val_accuracy: 0.7632\n",
            "Epoch 8/100\n",
            "313/313 [==============================] - 12s 37ms/step - loss: 0.5029 - accuracy: 0.7828 - val_loss: 0.5133 - val_accuracy: 0.7644\n",
            "Epoch 9/100\n",
            "313/313 [==============================] - 13s 40ms/step - loss: 0.4937 - accuracy: 0.7853 - val_loss: 0.5048 - val_accuracy: 0.7710\n",
            "Epoch 10/100\n",
            "313/313 [==============================] - 12s 37ms/step - loss: 0.4849 - accuracy: 0.7901 - val_loss: 0.4991 - val_accuracy: 0.7702\n",
            "Epoch 11/100\n",
            "313/313 [==============================] - 12s 37ms/step - loss: 0.4770 - accuracy: 0.7917 - val_loss: 0.4950 - val_accuracy: 0.7764\n",
            "Epoch 12/100\n",
            "313/313 [==============================] - 12s 38ms/step - loss: 0.4701 - accuracy: 0.7944 - val_loss: 0.4869 - val_accuracy: 0.7756\n",
            "Epoch 13/100\n",
            "313/313 [==============================] - 12s 38ms/step - loss: 0.4636 - accuracy: 0.7982 - val_loss: 0.4796 - val_accuracy: 0.7804\n",
            "Epoch 14/100\n",
            "313/313 [==============================] - 12s 38ms/step - loss: 0.4580 - accuracy: 0.8008 - val_loss: 0.4742 - val_accuracy: 0.7834\n",
            "Epoch 15/100\n",
            "313/313 [==============================] - 12s 38ms/step - loss: 0.4525 - accuracy: 0.8042 - val_loss: 0.4708 - val_accuracy: 0.7854\n",
            "Epoch 16/100\n",
            "313/313 [==============================] - 12s 38ms/step - loss: 0.4478 - accuracy: 0.8040 - val_loss: 0.4672 - val_accuracy: 0.7864\n",
            "Epoch 17/100\n",
            "313/313 [==============================] - 12s 38ms/step - loss: 0.4430 - accuracy: 0.8083 - val_loss: 0.4635 - val_accuracy: 0.7860\n",
            "Epoch 18/100\n",
            "313/313 [==============================] - 12s 38ms/step - loss: 0.4394 - accuracy: 0.8075 - val_loss: 0.4689 - val_accuracy: 0.7832\n",
            "Epoch 19/100\n",
            "313/313 [==============================] - 12s 37ms/step - loss: 0.4362 - accuracy: 0.8090 - val_loss: 0.4599 - val_accuracy: 0.7864\n",
            "Epoch 20/100\n",
            "313/313 [==============================] - 12s 38ms/step - loss: 0.4330 - accuracy: 0.8097 - val_loss: 0.4581 - val_accuracy: 0.7876\n",
            "Epoch 21/100\n",
            "313/313 [==============================] - 12s 38ms/step - loss: 0.4295 - accuracy: 0.8109 - val_loss: 0.4558 - val_accuracy: 0.7920\n",
            "Epoch 22/100\n",
            "313/313 [==============================] - 12s 37ms/step - loss: 0.4264 - accuracy: 0.8114 - val_loss: 0.4558 - val_accuracy: 0.7926\n",
            "Epoch 23/100\n",
            "313/313 [==============================] - 12s 37ms/step - loss: 0.4248 - accuracy: 0.8123 - val_loss: 0.4534 - val_accuracy: 0.7910\n",
            "Epoch 24/100\n",
            "313/313 [==============================] - 12s 37ms/step - loss: 0.4219 - accuracy: 0.8138 - val_loss: 0.4542 - val_accuracy: 0.7910\n",
            "Epoch 25/100\n",
            "313/313 [==============================] - 12s 38ms/step - loss: 0.4196 - accuracy: 0.8131 - val_loss: 0.4516 - val_accuracy: 0.7912\n",
            "Epoch 26/100\n",
            "313/313 [==============================] - 12s 37ms/step - loss: 0.4177 - accuracy: 0.8151 - val_loss: 0.4508 - val_accuracy: 0.7948\n",
            "Epoch 27/100\n",
            "313/313 [==============================] - 12s 38ms/step - loss: 0.4155 - accuracy: 0.8160 - val_loss: 0.4512 - val_accuracy: 0.7942\n",
            "Epoch 28/100\n",
            "313/313 [==============================] - 12s 38ms/step - loss: 0.4133 - accuracy: 0.8170 - val_loss: 0.4510 - val_accuracy: 0.7920\n",
            "Epoch 29/100\n",
            "313/313 [==============================] - 12s 38ms/step - loss: 0.4120 - accuracy: 0.8171 - val_loss: 0.4522 - val_accuracy: 0.7936\n"
          ]
        }
      ]
    },
    {
      "cell_type": "code",
      "source": [
        "plt.plot(history.history['loss'])\n",
        "plt.plot(history.history['val_loss'])\n",
        "plt.xlabel('epochs')\n",
        "plt.ylabel('loss')\n",
        "plt.legend(['train', 'val'])\n",
        "plt.show()"
      ],
      "metadata": {
        "colab": {
          "base_uri": "https://localhost:8080/",
          "height": 279
        },
        "id": "8j8kPlgrquS1",
        "outputId": "81b26378-d14b-433c-eddc-3e949ac32a2d"
      },
      "execution_count": 51,
      "outputs": [
        {
          "output_type": "display_data",
          "data": {
            "image/png": "[encoded data removed]",
            "text/plain": [
              "<Figure size 432x288 with 1 Axes>"
            ]
          },
          "metadata": {
            "needs_background": "light"
          }
        }
      ]
    },
    {
      "cell_type": "code",
      "source": [
        "print(train_seq.nbytes, train_oh.nbytes)"
      ],
      "metadata": {
        "colab": {
          "base_uri": "https://localhost:8080/"
        },
        "id": "w84hzp39wAI9",
        "outputId": "6bd6000f-8fa8-446c-8852-109ad5147831"
      },
      "execution_count": 52,
      "outputs": [
        {
          "output_type": "stream",
          "name": "stdout",
          "text": [
            "8000000 4000000000\n"
          ]
        }
      ]
    },
    {
      "cell_type": "markdown",
      "source": [
        "## 단어 임베딩을 사용하기"
      ],
      "metadata": {
        "id": "H9rbIglVwJxl"
      }
    },
    {
      "cell_type": "code",
      "source": [
        ""
      ],
      "metadata": {
        "id": "pHaHQ47nwMeP"
      },
      "execution_count": null,
      "outputs": []
    }
  ]
}