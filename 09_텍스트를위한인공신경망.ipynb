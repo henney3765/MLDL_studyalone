{
  "nbformat": 4,
  "nbformat_minor": 0,
  "metadata": {
    "colab": {
      "name": "09_텍스트를위한인공신경망.ipynb",
      "provenance": [],
      "collapsed_sections": [],
      "authorship_tag": "ABX9TyOlncX9ysOUwS9rfsI42Tpz",
      "include_colab_link": true
    },
    "kernelspec": {
      "name": "python3",
      "display_name": "Python 3"
    },
    "language_info": {
      "name": "python"
    },
    "accelerator": "GPU"
  },
  "cells": [
    {
      "cell_type": "markdown",
      "metadata": {
        "id": "view-in-github",
        "colab_type": "text"
      },
      "source": [
        "<a href=\"https://colab.research.google.com/github/henney3765/MLDL_studyalone/blob/main/09_%ED%85%8D%EC%8A%A4%ED%8A%B8%EB%A5%BC%EC%9C%84%ED%95%9C%EC%9D%B8%EA%B3%B5%EC%8B%A0%EA%B2%BD%EB%A7%9D.ipynb\" target=\"_parent\"><img src=\"https://colab.research.google.com/assets/colab-badge.svg\" alt=\"Open In Colab\"/></a>"
      ]
    },
    {
      "cell_type": "markdown",
      "source": [
        "# 09-1 순차 데이터와 순환 신경망 -> 코딩 x 책 참조"
      ],
      "metadata": {
        "id": "Og5lP7x3oCx7"
      }
    },
    {
      "cell_type": "markdown",
      "source": [
        "# 09-1 순환 신경망으로 IMDB 리뷰 분류하기"
      ],
      "metadata": {
        "id": "FfqMj4X0p9Y_"
      }
    },
    {
      "cell_type": "code",
      "source": [
        "from tensorflow.keras.datasets import imdb\n",
        "(train_input, train_target), (test_input, test_target) = imdb.load_data(\n",
        "    num_words=500\n",
        ")"
      ],
      "metadata": {
        "id": "wVo1x2yRTnkX"
      },
      "execution_count": 1,
      "outputs": []
    },
    {
      "cell_type": "code",
      "source": [
        "print(train_input.shape, test_input.shape)\n",
        "\n",
        "# 25,000개의 샘플이며, 파이썬 리스트로 담긴 넘파이"
      ],
      "metadata": {
        "colab": {
          "base_uri": "https://localhost:8080/"
        },
        "id": "t5x3tO1cWX8o",
        "outputId": "1c837466-4ed0-44c6-b8bc-363cf4e7f980"
      },
      "execution_count": 2,
      "outputs": [
        {
          "output_type": "stream",
          "name": "stdout",
          "text": [
            "(25000,) (25000,)\n"
          ]
        }
      ]
    },
    {
      "cell_type": "code",
      "source": [
        "print(len(train_input[0]))"
      ],
      "metadata": {
        "colab": {
          "base_uri": "https://localhost:8080/"
        },
        "id": "_B_hWiFjW0Qm",
        "outputId": "938a73c2-e5e3-4a4e-b4dd-45bf4ccad982"
      },
      "execution_count": 3,
      "outputs": [
        {
          "output_type": "stream",
          "name": "stdout",
          "text": [
            "218\n"
          ]
        }
      ]
    },
    {
      "cell_type": "code",
      "source": [
        "print(len(train_input[1]))\n",
        "\n",
        "# 리뷰마다 길이가 다름"
      ],
      "metadata": {
        "colab": {
          "base_uri": "https://localhost:8080/"
        },
        "id": "r5AcnYH9XFCT",
        "outputId": "620a7f5f-84a4-4af6-d777-86bf3c47ecf1"
      },
      "execution_count": 4,
      "outputs": [
        {
          "output_type": "stream",
          "name": "stdout",
          "text": [
            "189\n"
          ]
        }
      ]
    },
    {
      "cell_type": "code",
      "source": [
        "print(train_input[0])"
      ],
      "metadata": {
        "colab": {
          "base_uri": "https://localhost:8080/"
        },
        "id": "f5GdTdZkXHsI",
        "outputId": "c449ec51-e6c7-4268-97e9-45ff03410559"
      },
      "execution_count": 5,
      "outputs": [
        {
          "output_type": "stream",
          "name": "stdout",
          "text": [
            "[1, 14, 22, 16, 43, 2, 2, 2, 2, 65, 458, 2, 66, 2, 4, 173, 36, 256, 5, 25, 100, 43, 2, 112, 50, 2, 2, 9, 35, 480, 284, 5, 150, 4, 172, 112, 167, 2, 336, 385, 39, 4, 172, 2, 2, 17, 2, 38, 13, 447, 4, 192, 50, 16, 6, 147, 2, 19, 14, 22, 4, 2, 2, 469, 4, 22, 71, 87, 12, 16, 43, 2, 38, 76, 15, 13, 2, 4, 22, 17, 2, 17, 12, 16, 2, 18, 2, 5, 62, 386, 12, 8, 316, 8, 106, 5, 4, 2, 2, 16, 480, 66, 2, 33, 4, 130, 12, 16, 38, 2, 5, 25, 124, 51, 36, 135, 48, 25, 2, 33, 6, 22, 12, 215, 28, 77, 52, 5, 14, 407, 16, 82, 2, 8, 4, 107, 117, 2, 15, 256, 4, 2, 7, 2, 5, 2, 36, 71, 43, 2, 476, 26, 400, 317, 46, 7, 4, 2, 2, 13, 104, 88, 4, 381, 15, 297, 98, 32, 2, 56, 26, 141, 6, 194, 2, 18, 4, 226, 22, 21, 134, 476, 26, 480, 5, 144, 30, 2, 18, 51, 36, 28, 224, 92, 25, 104, 4, 226, 65, 16, 38, 2, 88, 12, 16, 283, 5, 16, 2, 113, 103, 32, 15, 16, 2, 19, 178, 32]\n"
          ]
        }
      ]
    },
    {
      "cell_type": "code",
      "source": [
        "print(train_target[:20])"
      ],
      "metadata": {
        "colab": {
          "base_uri": "https://localhost:8080/"
        },
        "id": "GGQ-GDKCXRVL",
        "outputId": "45b9edd6-503c-4cb7-b550-ada43138c75e"
      },
      "execution_count": 6,
      "outputs": [
        {
          "output_type": "stream",
          "name": "stdout",
          "text": [
            "[1 0 0 1 0 0 1 0 1 0 1 0 0 0 0 0 1 1 0 1]\n"
          ]
        }
      ]
    },
    {
      "cell_type": "code",
      "source": [
        "from sklearn.model_selection import train_test_split\n",
        "train_input, val_input, train_target, val_target = train_test_split(\n",
        "    train_input, train_target, test_size=0.2, random_state=42\n",
        ")"
      ],
      "metadata": {
        "id": "53vRn17zZiGs"
      },
      "execution_count": 7,
      "outputs": []
    },
    {
      "cell_type": "code",
      "source": [
        "import numpy as np\n",
        "lengths = np.array([len(x) for x in train_input])"
      ],
      "metadata": {
        "id": "teJdK6CaZ2pi"
      },
      "execution_count": 8,
      "outputs": []
    },
    {
      "cell_type": "code",
      "source": [
        "print(np.mean(lengths), np.median(lengths))"
      ],
      "metadata": {
        "colab": {
          "base_uri": "https://localhost:8080/"
        },
        "id": "VPTw3yaXaHfC",
        "outputId": "3b0389cc-a758-40ed-c82b-bda16f018614"
      },
      "execution_count": 9,
      "outputs": [
        {
          "output_type": "stream",
          "name": "stdout",
          "text": [
            "239.00925 178.0\n"
          ]
        }
      ]
    },
    {
      "cell_type": "code",
      "source": [
        "import matplotlib.pyplot as plt\n",
        "plt.hist(lengths)\n",
        "plt.xlabel('length')\n",
        "plt.ylabel('frequency')\n",
        "plt.show()"
      ],
      "metadata": {
        "colab": {
          "base_uri": "https://localhost:8080/",
          "height": 279
        },
        "id": "IQmpFUmEaMPq",
        "outputId": "b968143b-7b82-416f-be02-9b9d21b60255"
      },
      "execution_count": 10,
      "outputs": [
        {
          "output_type": "display_data",
          "data": {
            "image/png": "[encoded data removed]",
            "text/plain": [
              "<Figure size 432x288 with 1 Axes>"
            ]
          },
          "metadata": {
            "needs_background": "light"
          }
        }
      ]
    },
    {
      "cell_type": "code",
      "source": [
        "from tensorflow.keras.preprocessing.sequence import pad_sequences\n",
        "train_seq = pad_sequences(train_input, maxlen=100)"
      ],
      "metadata": {
        "id": "eelEU46ParW_"
      },
      "execution_count": 11,
      "outputs": []
    },
    {
      "cell_type": "code",
      "source": [
        "print(train_seq.shape)"
      ],
      "metadata": {
        "colab": {
          "base_uri": "https://localhost:8080/"
        },
        "id": "9kzQP-MYbfow",
        "outputId": "0328ae1e-0a37-4414-9e4d-071ea1d48994"
      },
      "execution_count": 12,
      "outputs": [
        {
          "output_type": "stream",
          "name": "stdout",
          "text": [
            "(20000, 100)\n"
          ]
        }
      ]
    },
    {
      "cell_type": "code",
      "source": [
        "print(train_seq[0])"
      ],
      "metadata": {
        "colab": {
          "base_uri": "https://localhost:8080/"
        },
        "id": "1jkva8ysbiE4",
        "outputId": "7d7a27bc-d4fa-4340-dedd-69fa0ea973fb"
      },
      "execution_count": 13,
      "outputs": [
        {
          "output_type": "stream",
          "name": "stdout",
          "text": [
            "[ 10   4  20   9   2 364 352   5  45   6   2   2  33 269   8   2 142   2\n",
            "   5   2  17  73  17 204   5   2  19  55   2   2  92  66 104  14  20  93\n",
            "  76   2 151  33   4  58  12 188   2 151  12 215  69 224 142  73 237   6\n",
            "   2   7   2   2 188   2 103  14  31  10  10 451   7   2   5   2  80  91\n",
            "   2  30   2  34  14  20 151  50  26 131  49   2  84  46  50  37  80  79\n",
            "   6   2  46   7  14  20  10  10 470 158]\n"
          ]
        }
      ]
    },
    {
      "cell_type": "code",
      "source": [
        "train_input[0][-10:]\n",
        "# 앞부분이 잘림\n",
        "# pad_sequences() 함수는 기본적으로 maxlen보다 긴 시퀀스의 앞부분을 자름 -> 뒷부분의 정보가 유용할 것이라 기대하기 때문\n",
        "#시퀀스의 뒷부분을 잘라내고 싶다면 pad_sequences() 함수의  truncating 매개변수의 값을 기본값 'pre'에서 'post'로 변경"
      ],
      "metadata": {
        "colab": {
          "base_uri": "https://localhost:8080/"
        },
        "id": "z_D7wEuBbubl",
        "outputId": "a2f7cc76-9a97-4bd4-d635-f3d1797de4d0"
      },
      "execution_count": 14,
      "outputs": [
        {
          "output_type": "execute_result",
          "data": {
            "text/plain": [
              "[6, 2, 46, 7, 14, 20, 10, 10, 470, 158]"
            ]
          },
          "metadata": {},
          "execution_count": 14
        }
      ]
    },
    {
      "cell_type": "code",
      "source": [
        "print(train_seq[5])"
      ],
      "metadata": {
        "colab": {
          "base_uri": "https://localhost:8080/"
        },
        "id": "OMx2t4bYbyFL",
        "outputId": "60113504-e604-4183-adb8-4e039c6a587c"
      },
      "execution_count": 15,
      "outputs": [
        {
          "output_type": "stream",
          "name": "stdout",
          "text": [
            "[  0   0   0   0   1   2 195  19  49   2   2 190   4   2 352   2 183  10\n",
            "  10  13  82  79   4   2  36  71 269   8   2  25  19  49   7   4   2   2\n",
            "   2   2   2  10  10  48  25  40   2  11   2   2  40   2   2   5   4   2\n",
            "   2  95  14 238  56 129   2  10  10  21   2  94 364 352   2   2  11 190\n",
            "  24 484   2   7  94 205 405  10  10  87   2  34  49   2   7   2   2   2\n",
            "   2   2 290   2  46  48  64  18   4   2]\n"
          ]
        }
      ]
    },
    {
      "cell_type": "code",
      "source": [
        "print(train_seq[5])\n",
        "\n",
        "# 같은 이유로 패딩 토큰은 시퀀스의 뒷부분이 아닌 앞부분에 추가됨\n",
        "# pad_sequences() 함수의 padding 매개변수의 기본값인 'pre'를 'post'로 바꾸면 샘플의 뒷부분에 패딩을 추가할 수 있음"
      ],
      "metadata": {
        "colab": {
          "base_uri": "https://localhost:8080/"
        },
        "id": "jTwLamRycJA9",
        "outputId": "095f9042-8d96-4e2c-f9b7-621466a63079"
      },
      "execution_count": 16,
      "outputs": [
        {
          "output_type": "stream",
          "name": "stdout",
          "text": [
            "[  0   0   0   0   1   2 195  19  49   2   2 190   4   2 352   2 183  10\n",
            "  10  13  82  79   4   2  36  71 269   8   2  25  19  49   7   4   2   2\n",
            "   2   2   2  10  10  48  25  40   2  11   2   2  40   2   2   5   4   2\n",
            "   2  95  14 238  56 129   2  10  10  21   2  94 364 352   2   2  11 190\n",
            "  24 484   2   7  94 205 405  10  10  87   2  34  49   2   7   2   2   2\n",
            "   2   2 290   2  46  48  64  18   4   2]\n"
          ]
        }
      ]
    },
    {
      "cell_type": "code",
      "source": [
        "val_seq = pad_sequences(val_input, maxlen=100)"
      ],
      "metadata": {
        "id": "1jpls4jQcUdA"
      },
      "execution_count": 17,
      "outputs": []
    },
    {
      "cell_type": "markdown",
      "source": [
        "## 순환 신경망 만들기"
      ],
      "metadata": {
        "id": "tgFGXcjQcibn"
      }
    },
    {
      "cell_type": "code",
      "source": [
        "from tensorflow import keras\n",
        "model = keras.Sequential()\n",
        "model.add(keras.layers.SimpleRNN(8, input_shape=(100, 500)))\n",
        "model.add(keras.layers.Dense(1, activation='sigmoid'))"
      ],
      "metadata": {
        "id": "V5TkFuiGckku"
      },
      "execution_count": 18,
      "outputs": []
    },
    {
      "cell_type": "code",
      "source": [
        "# one-hot encoding\n",
        "train_oh = keras.utils.to_categorical(train_seq)"
      ],
      "metadata": {
        "id": "OfwJfZfYj6E3"
      },
      "execution_count": 19,
      "outputs": []
    },
    {
      "cell_type": "code",
      "source": [
        "print(train_oh.shape)"
      ],
      "metadata": {
        "colab": {
          "base_uri": "https://localhost:8080/"
        },
        "id": "4a_4-nhZlNW0",
        "outputId": "616ab54a-e536-4155-f78f-13c9ead6f0fd"
      },
      "execution_count": 20,
      "outputs": [
        {
          "output_type": "stream",
          "name": "stdout",
          "text": [
            "(20000, 100, 500)\n"
          ]
        }
      ]
    },
    {
      "cell_type": "code",
      "source": [
        "print(train_oh[0][0][:12])"
      ],
      "metadata": {
        "colab": {
          "base_uri": "https://localhost:8080/"
        },
        "id": "DIXXGPkllPQI",
        "outputId": "0113e0d6-2862-48e0-a9d4-80ed7175f23d"
      },
      "execution_count": 21,
      "outputs": [
        {
          "output_type": "stream",
          "name": "stdout",
          "text": [
            "[0. 0. 0. 0. 0. 0. 0. 0. 0. 0. 1. 0.]\n"
          ]
        }
      ]
    },
    {
      "cell_type": "code",
      "source": [
        "print(np.sum(train_oh[0][0]))"
      ],
      "metadata": {
        "colab": {
          "base_uri": "https://localhost:8080/"
        },
        "id": "4R3LITU4ogFF",
        "outputId": "9a876c28-25fa-4004-a32b-f06a92469e72"
      },
      "execution_count": 22,
      "outputs": [
        {
          "output_type": "stream",
          "name": "stdout",
          "text": [
            "1.0\n"
          ]
        }
      ]
    },
    {
      "cell_type": "code",
      "source": [
        "val_oh = keras.utils.to_categorical(val_seq)"
      ],
      "metadata": {
        "id": "7CFUxB8tphoR"
      },
      "execution_count": 23,
      "outputs": []
    },
    {
      "cell_type": "code",
      "source": [
        "model.summary()"
      ],
      "metadata": {
        "colab": {
          "base_uri": "https://localhost:8080/"
        },
        "id": "SrRn2w6cojxB",
        "outputId": "474c770c-068d-45e6-a029-ee0722633891"
      },
      "execution_count": 24,
      "outputs": [
        {
          "output_type": "stream",
          "name": "stdout",
          "text": [
            "Model: \"sequential\"\n",
            "_________________________________________________________________\n",
            " Layer (type)                Output Shape              Param #   \n",
            "=================================================================\n",
            " simple_rnn (SimpleRNN)      (None, 8)                 4072      \n",
            "                                                                 \n",
            " dense (Dense)               (None, 1)                 9         \n",
            "                                                                 \n",
            "=================================================================\n",
            "Total params: 4,081\n",
            "Trainable params: 4,081\n",
            "Non-trainable params: 0\n",
            "_________________________________________________________________\n"
          ]
        }
      ]
    },
    {
      "cell_type": "markdown",
      "source": [
        "## 순환 신경망 훈련하기"
      ],
      "metadata": {
        "id": "V4x_Q4H8ow4U"
      }
    },
    {
      "cell_type": "code",
      "source": [
        "rmsprop = keras.optimizers.RMSprop(learning_rate=1e-4)\n",
        "model.compile(optimizer=rmsprop, loss='binary_crossentropy',\n",
        "              metrics=['accuracy'])\n",
        "checkpoint_cb = keras.callbacks.ModelCheckpoint('best-simplernn-model.h5')\n",
        "early_stopping_cb = keras.callbacks.EarlyStopping(patience=3,\n",
        "                                                  restore_best_weights=True)\n",
        "history = model.fit(train_oh, train_target, epochs=100, batch_size=64,\n",
        "                    validation_data=(val_oh, val_target),\n",
        "                    callbacks=[checkpoint_cb, early_stopping_cb])"
      ],
      "metadata": {
        "colab": {
          "base_uri": "https://localhost:8080/"
        },
        "id": "JaQwDkxOo6aj",
        "outputId": "27a6f5e5-5d02-40f3-e82b-dbe9d58a5945"
      },
      "execution_count": 25,
      "outputs": [
        {
          "output_type": "stream",
          "name": "stdout",
          "text": [
            "Epoch 1/100\n",
            "313/313 [==============================] - 44s 137ms/step - loss: 0.7029 - accuracy: 0.5027 - val_loss: 0.6984 - val_accuracy: 0.5118\n",
            "Epoch 2/100\n",
            "313/313 [==============================] - 44s 140ms/step - loss: 0.6893 - accuracy: 0.5372 - val_loss: 0.6763 - val_accuracy: 0.5776\n",
            "Epoch 3/100\n",
            "313/313 [==============================] - 41s 131ms/step - loss: 0.6621 - accuracy: 0.6138 - val_loss: 0.6495 - val_accuracy: 0.6394\n",
            "Epoch 4/100\n",
            "313/313 [==============================] - 41s 130ms/step - loss: 0.6368 - accuracy: 0.6583 - val_loss: 0.6263 - val_accuracy: 0.6716\n",
            "Epoch 5/100\n",
            "313/313 [==============================] - 40s 129ms/step - loss: 0.6123 - accuracy: 0.6896 - val_loss: 0.6046 - val_accuracy: 0.6948\n",
            "Epoch 6/100\n",
            "313/313 [==============================] - 41s 131ms/step - loss: 0.5893 - accuracy: 0.7169 - val_loss: 0.5859 - val_accuracy: 0.7166\n",
            "Epoch 7/100\n",
            "313/313 [==============================] - 43s 139ms/step - loss: 0.5697 - accuracy: 0.7330 - val_loss: 0.5679 - val_accuracy: 0.7270\n",
            "Epoch 8/100\n",
            "313/313 [==============================] - 42s 135ms/step - loss: 0.5515 - accuracy: 0.7470 - val_loss: 0.5524 - val_accuracy: 0.7512\n",
            "Epoch 9/100\n",
            "313/313 [==============================] - 41s 130ms/step - loss: 0.5355 - accuracy: 0.7575 - val_loss: 0.5375 - val_accuracy: 0.7528\n",
            "Epoch 10/100\n",
            "313/313 [==============================] - 39s 126ms/step - loss: 0.5214 - accuracy: 0.7656 - val_loss: 0.5270 - val_accuracy: 0.7554\n",
            "Epoch 11/100\n",
            "313/313 [==============================] - 40s 127ms/step - loss: 0.5097 - accuracy: 0.7737 - val_loss: 0.5178 - val_accuracy: 0.7616\n",
            "Epoch 12/100\n",
            "313/313 [==============================] - 40s 126ms/step - loss: 0.4980 - accuracy: 0.7790 - val_loss: 0.5058 - val_accuracy: 0.7698\n",
            "Epoch 13/100\n",
            "313/313 [==============================] - 40s 129ms/step - loss: 0.4882 - accuracy: 0.7835 - val_loss: 0.5001 - val_accuracy: 0.7700\n",
            "Epoch 14/100\n",
            "313/313 [==============================] - 41s 131ms/step - loss: 0.4792 - accuracy: 0.7879 - val_loss: 0.4898 - val_accuracy: 0.7746\n",
            "Epoch 15/100\n",
            "313/313 [==============================] - 42s 134ms/step - loss: 0.4709 - accuracy: 0.7926 - val_loss: 0.4880 - val_accuracy: 0.7760\n",
            "Epoch 16/100\n",
            "313/313 [==============================] - 43s 138ms/step - loss: 0.4638 - accuracy: 0.7969 - val_loss: 0.4821 - val_accuracy: 0.7768\n",
            "Epoch 17/100\n",
            "313/313 [==============================] - 41s 131ms/step - loss: 0.4580 - accuracy: 0.7987 - val_loss: 0.4738 - val_accuracy: 0.7818\n",
            "Epoch 18/100\n",
            "313/313 [==============================] - 40s 127ms/step - loss: 0.4522 - accuracy: 0.7999 - val_loss: 0.4731 - val_accuracy: 0.7810\n",
            "Epoch 19/100\n",
            "313/313 [==============================] - 40s 127ms/step - loss: 0.4472 - accuracy: 0.8026 - val_loss: 0.4663 - val_accuracy: 0.7864\n",
            "Epoch 20/100\n",
            "313/313 [==============================] - 39s 126ms/step - loss: 0.4429 - accuracy: 0.8051 - val_loss: 0.4637 - val_accuracy: 0.7850\n",
            "Epoch 21/100\n",
            "313/313 [==============================] - 39s 125ms/step - loss: 0.4383 - accuracy: 0.8064 - val_loss: 0.4621 - val_accuracy: 0.7862\n",
            "Epoch 22/100\n",
            "313/313 [==============================] - 39s 124ms/step - loss: 0.4349 - accuracy: 0.8080 - val_loss: 0.4599 - val_accuracy: 0.7870\n",
            "Epoch 23/100\n",
            "313/313 [==============================] - 39s 124ms/step - loss: 0.4312 - accuracy: 0.8098 - val_loss: 0.4589 - val_accuracy: 0.7870\n",
            "Epoch 24/100\n",
            "313/313 [==============================] - 41s 131ms/step - loss: 0.4283 - accuracy: 0.8105 - val_loss: 0.4600 - val_accuracy: 0.7846\n",
            "Epoch 25/100\n",
            "313/313 [==============================] - 39s 125ms/step - loss: 0.4257 - accuracy: 0.8116 - val_loss: 0.4590 - val_accuracy: 0.7846\n",
            "Epoch 26/100\n",
            "313/313 [==============================] - 39s 126ms/step - loss: 0.4228 - accuracy: 0.8135 - val_loss: 0.4564 - val_accuracy: 0.7878\n",
            "Epoch 27/100\n",
            "313/313 [==============================] - 39s 124ms/step - loss: 0.4210 - accuracy: 0.8124 - val_loss: 0.4521 - val_accuracy: 0.7926\n",
            "Epoch 28/100\n",
            "313/313 [==============================] - 39s 125ms/step - loss: 0.4189 - accuracy: 0.8152 - val_loss: 0.4527 - val_accuracy: 0.7902\n",
            "Epoch 29/100\n",
            "313/313 [==============================] - 39s 125ms/step - loss: 0.4169 - accuracy: 0.8141 - val_loss: 0.4522 - val_accuracy: 0.7906\n",
            "Epoch 30/100\n",
            "313/313 [==============================] - 39s 125ms/step - loss: 0.4149 - accuracy: 0.8170 - val_loss: 0.4509 - val_accuracy: 0.7924\n",
            "Epoch 31/100\n",
            "313/313 [==============================] - 39s 126ms/step - loss: 0.4132 - accuracy: 0.8191 - val_loss: 0.4539 - val_accuracy: 0.7914\n",
            "Epoch 32/100\n",
            "313/313 [==============================] - 40s 127ms/step - loss: 0.4112 - accuracy: 0.8182 - val_loss: 0.4525 - val_accuracy: 0.7912\n",
            "Epoch 33/100\n",
            "313/313 [==============================] - 39s 126ms/step - loss: 0.4104 - accuracy: 0.8178 - val_loss: 0.4516 - val_accuracy: 0.7894\n"
          ]
        }
      ]
    },
    {
      "cell_type": "code",
      "source": [
        "plt.plot(history.history['loss'])\n",
        "plt.plot(history.history['val_loss'])\n",
        "plt.xlabel('epochs')\n",
        "plt.ylabel('loss')\n",
        "plt.legend(['train', 'val'])\n",
        "plt.show()"
      ],
      "metadata": {
        "colab": {
          "base_uri": "https://localhost:8080/",
          "height": 279
        },
        "id": "8j8kPlgrquS1",
        "outputId": "4ea0dcf7-f47d-4613-db63-a022aca6af37"
      },
      "execution_count": 26,
      "outputs": [
        {
          "output_type": "display_data",
          "data": {
            "image/png": "[encoded data removed]",
            "text/plain": [
              "<Figure size 432x288 with 1 Axes>"
            ]
          },
          "metadata": {
            "needs_background": "light"
          }
        }
      ]
    },
    {
      "cell_type": "code",
      "source": [
        "print(train_seq.nbytes, train_oh.nbytes)"
      ],
      "metadata": {
        "colab": {
          "base_uri": "https://localhost:8080/"
        },
        "id": "w84hzp39wAI9",
        "outputId": "09661d29-5e31-4224-c4f4-d751cfe5aca7"
      },
      "execution_count": 27,
      "outputs": [
        {
          "output_type": "stream",
          "name": "stdout",
          "text": [
            "8000000 4000000000\n"
          ]
        }
      ]
    },
    {
      "cell_type": "markdown",
      "source": [
        "## 단어 임베딩을 사용하기"
      ],
      "metadata": {
        "id": "H9rbIglVwJxl"
      }
    },
    {
      "cell_type": "code",
      "source": [
        "model2 = keras.Sequential()\n",
        "model2.add(keras.layers.Embedding(500, 16, input_length=100))\n",
        "model2.add(keras.layers.SimpleRNN(8))\n",
        "model2.add(keras.layers.Dense(1, activation='sigmoid'))"
      ],
      "metadata": {
        "id": "bO9arl5l3rX8"
      },
      "execution_count": 40,
      "outputs": []
    },
    {
      "cell_type": "code",
      "source": [
        "model2.summary()"
      ],
      "metadata": {
        "colab": {
          "base_uri": "https://localhost:8080/"
        },
        "id": "oYLCL5ey5T1d",
        "outputId": "bab71112-dc30-409d-8da1-75612484f680"
      },
      "execution_count": 41,
      "outputs": [
        {
          "output_type": "stream",
          "name": "stdout",
          "text": [
            "Model: \"sequential_5\"\n",
            "_________________________________________________________________\n",
            " Layer (type)                Output Shape              Param #   \n",
            "=================================================================\n",
            " embedding_4 (Embedding)     (None, 100, 16)           8000      \n",
            "                                                                 \n",
            " simple_rnn_4 (SimpleRNN)    (None, 8)                 200       \n",
            "                                                                 \n",
            " dense_4 (Dense)             (None, 1)                 9         \n",
            "                                                                 \n",
            "=================================================================\n",
            "Total params: 8,209\n",
            "Trainable params: 8,209\n",
            "Non-trainable params: 0\n",
            "_________________________________________________________________\n"
          ]
        }
      ]
    },
    {
      "cell_type": "code",
      "source": [
        "rmsprop = keras.optimizers.RMSprop(learning_rate=1e-4)\n",
        "model2.compile(optimizer=rmsprop, loss='binary_crossentropy',\n",
        "              metrics=['accuracy'])\n",
        "checkpoint_cb = keras.callbacks.ModelCheckpoint('best-embedding-model.h5')\n",
        "early_stopping_cb = keras.callbacks.EarlyStopping(patience=3,\n",
        "                                                  restore_best_weights=True)\n",
        "history = model2.fit(train_seq, train_target, epochs=100, batch_size=64,\n",
        "                    validation_data=(val_seq, val_target),\n",
        "                    callbacks=[checkpoint_cb, early_stopping_cb])"
      ],
      "metadata": {
        "colab": {
          "base_uri": "https://localhost:8080/"
        },
        "id": "p8YRm_u95Uuv",
        "outputId": "4cccabdc-1ed3-4242-fd7d-352cd734d4d5"
      },
      "execution_count": 42,
      "outputs": [
        {
          "output_type": "stream",
          "name": "stdout",
          "text": [
            "Epoch 1/100\n",
            "313/313 [==============================] - 58s 181ms/step - loss: 0.6947 - accuracy: 0.5123 - val_loss: 0.6902 - val_accuracy: 0.5334\n",
            "Epoch 2/100\n",
            "313/313 [==============================] - 55s 177ms/step - loss: 0.6871 - accuracy: 0.5466 - val_loss: 0.6848 - val_accuracy: 0.5526\n",
            "Epoch 3/100\n",
            "313/313 [==============================] - 55s 177ms/step - loss: 0.6766 - accuracy: 0.5953 - val_loss: 0.6715 - val_accuracy: 0.6076\n",
            "Epoch 4/100\n",
            "313/313 [==============================] - 55s 176ms/step - loss: 0.6455 - accuracy: 0.6743 - val_loss: 0.6275 - val_accuracy: 0.7052\n",
            "Epoch 5/100\n",
            "313/313 [==============================] - 55s 176ms/step - loss: 0.6071 - accuracy: 0.7314 - val_loss: 0.5997 - val_accuracy: 0.7302\n",
            "Epoch 6/100\n",
            "313/313 [==============================] - 55s 176ms/step - loss: 0.5793 - accuracy: 0.7513 - val_loss: 0.5757 - val_accuracy: 0.7412\n",
            "Epoch 7/100\n",
            "313/313 [==============================] - 55s 176ms/step - loss: 0.5552 - accuracy: 0.7656 - val_loss: 0.5591 - val_accuracy: 0.7490\n",
            "Epoch 8/100\n",
            "313/313 [==============================] - 54s 174ms/step - loss: 0.5345 - accuracy: 0.7728 - val_loss: 0.5373 - val_accuracy: 0.7594\n",
            "Epoch 9/100\n",
            "313/313 [==============================] - 55s 177ms/step - loss: 0.5183 - accuracy: 0.7790 - val_loss: 0.5219 - val_accuracy: 0.7700\n",
            "Epoch 10/100\n",
            "313/313 [==============================] - 53s 169ms/step - loss: 0.5046 - accuracy: 0.7826 - val_loss: 0.5122 - val_accuracy: 0.7718\n",
            "Epoch 11/100\n",
            "313/313 [==============================] - 54s 174ms/step - loss: 0.4926 - accuracy: 0.7897 - val_loss: 0.5027 - val_accuracy: 0.7740\n",
            "Epoch 12/100\n",
            "313/313 [==============================] - 55s 177ms/step - loss: 0.4834 - accuracy: 0.7933 - val_loss: 0.4940 - val_accuracy: 0.7780\n",
            "Epoch 13/100\n",
            "313/313 [==============================] - 56s 177ms/step - loss: 0.4743 - accuracy: 0.7972 - val_loss: 0.4886 - val_accuracy: 0.7784\n",
            "Epoch 14/100\n",
            "313/313 [==============================] - 56s 178ms/step - loss: 0.4670 - accuracy: 0.7982 - val_loss: 0.4881 - val_accuracy: 0.7740\n",
            "Epoch 15/100\n",
            "313/313 [==============================] - 56s 180ms/step - loss: 0.4615 - accuracy: 0.8007 - val_loss: 0.4933 - val_accuracy: 0.7700\n",
            "Epoch 16/100\n",
            "313/313 [==============================] - 54s 173ms/step - loss: 0.4568 - accuracy: 0.8034 - val_loss: 0.4777 - val_accuracy: 0.7838\n",
            "Epoch 17/100\n",
            "313/313 [==============================] - 56s 180ms/step - loss: 0.4515 - accuracy: 0.8053 - val_loss: 0.4783 - val_accuracy: 0.7818\n",
            "Epoch 18/100\n",
            "313/313 [==============================] - 56s 180ms/step - loss: 0.4465 - accuracy: 0.8079 - val_loss: 0.4767 - val_accuracy: 0.7786\n",
            "Epoch 19/100\n",
            "313/313 [==============================] - 56s 179ms/step - loss: 0.4426 - accuracy: 0.8105 - val_loss: 0.4748 - val_accuracy: 0.7850\n",
            "Epoch 20/100\n",
            "313/313 [==============================] - 56s 179ms/step - loss: 0.4390 - accuracy: 0.8117 - val_loss: 0.4897 - val_accuracy: 0.7724\n",
            "Epoch 21/100\n",
            "313/313 [==============================] - 55s 175ms/step - loss: 0.4371 - accuracy: 0.8123 - val_loss: 0.4729 - val_accuracy: 0.7820\n",
            "Epoch 22/100\n",
            "313/313 [==============================] - 56s 180ms/step - loss: 0.4336 - accuracy: 0.8137 - val_loss: 0.4690 - val_accuracy: 0.7876\n",
            "Epoch 23/100\n",
            "313/313 [==============================] - 56s 179ms/step - loss: 0.4318 - accuracy: 0.8148 - val_loss: 0.4831 - val_accuracy: 0.7768\n",
            "Epoch 24/100\n",
            "313/313 [==============================] - 55s 177ms/step - loss: 0.4288 - accuracy: 0.8159 - val_loss: 0.4707 - val_accuracy: 0.7840\n",
            "Epoch 25/100\n",
            "313/313 [==============================] - 55s 176ms/step - loss: 0.4272 - accuracy: 0.8175 - val_loss: 0.4664 - val_accuracy: 0.7896\n",
            "Epoch 26/100\n",
            "313/313 [==============================] - 56s 180ms/step - loss: 0.4237 - accuracy: 0.8187 - val_loss: 0.4676 - val_accuracy: 0.7846\n",
            "Epoch 27/100\n",
            "313/313 [==============================] - 55s 174ms/step - loss: 0.4215 - accuracy: 0.8194 - val_loss: 0.4715 - val_accuracy: 0.7850\n",
            "Epoch 28/100\n",
            "313/313 [==============================] - 56s 179ms/step - loss: 0.4199 - accuracy: 0.8206 - val_loss: 0.4638 - val_accuracy: 0.7918\n",
            "Epoch 29/100\n",
            "313/313 [==============================] - 56s 178ms/step - loss: 0.4180 - accuracy: 0.8226 - val_loss: 0.4831 - val_accuracy: 0.7750\n",
            "Epoch 30/100\n",
            "313/313 [==============================] - 56s 178ms/step - loss: 0.4165 - accuracy: 0.8223 - val_loss: 0.4634 - val_accuracy: 0.7926\n",
            "Epoch 31/100\n",
            "313/313 [==============================] - 56s 179ms/step - loss: 0.4145 - accuracy: 0.8212 - val_loss: 0.4690 - val_accuracy: 0.7834\n",
            "Epoch 32/100\n",
            "313/313 [==============================] - 55s 175ms/step - loss: 0.4130 - accuracy: 0.8223 - val_loss: 0.4650 - val_accuracy: 0.7852\n",
            "Epoch 33/100\n",
            "313/313 [==============================] - 55s 174ms/step - loss: 0.4116 - accuracy: 0.8235 - val_loss: 0.4669 - val_accuracy: 0.7838\n"
          ]
        }
      ]
    },
    {
      "cell_type": "code",
      "source": [
        "plt.plot(history.history['loss'])\n",
        "plt.plot(history.history['val_loss'])\n",
        "plt.xlabel('epochs')\n",
        "plt.ylabel('loss')\n",
        "plt.legend(['train', 'val'])\n",
        "plt.show()"
      ],
      "metadata": {
        "colab": {
          "base_uri": "https://localhost:8080/",
          "height": 279
        },
        "id": "V22rT-nL_Soa",
        "outputId": "81f2b388-d683-48e2-8f3e-49cd8aeaa190"
      },
      "execution_count": 43,
      "outputs": [
        {
          "output_type": "display_data",
          "data": {
            "image/png": "[encoded data removed]",
            "text/plain": [
              "<Figure size 432x288 with 1 Axes>"
            ]
          },
          "metadata": {
            "needs_background": "light"
          }
        }
      ]
    },
    {
      "cell_type": "code",
      "source": [
        ""
      ],
      "metadata": {
        "id": "7O9jXKPGHLG2"
      },
      "execution_count": null,
      "outputs": []
    }
  ]
}